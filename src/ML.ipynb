{
 "cells": [
  {
   "cell_type": "code",
   "execution_count": 1,
   "metadata": {},
   "outputs": [],
   "source": [
    "from tensorflow.keras.optimizers import Adam\n",
    "from tensorflow.keras import losses\n",
    "import tensorflow as tf\n",
    "\n",
    "from modeling.preprocess.get_training_data import compile_training_data\n",
    "from modeling.models.custom_models import MyCustomModel, MyCustomModel1"
   ]
  },
  {
   "cell_type": "code",
   "execution_count": 2,
   "metadata": {},
   "outputs": [],
   "source": [
    "# Set shared hyperparameters - User customizable\n",
    "label_seq_length = 20\n",
    "n_vocab = 100000\n",
    "\n",
    "# Set input pipeline hyperparameters - User customizable\n",
    "pipeline_hparams = {\n",
    "    \"training_data_folder\": \"datasets/test_training data\",\n",
    "    \"fred_series_id\": \"GDPC1\",\n",
    "    \"series_seq_length\": 40,\n",
    "    \"label_seq_length\": label_seq_length,\n",
    "    \"n_vocab\": n_vocab,\n",
    "    \"num_threads\": 8,\n",
    "    \"batch_size\": 1\n",
    "}"
   ]
  },
  {
   "cell_type": "code",
   "execution_count": 3,
   "metadata": {},
   "outputs": [],
   "source": [
    "train_data, test_data, n_examples = compile_training_data(**pipeline_hparams)"
   ]
  },
  {
   "cell_type": "code",
   "execution_count": 4,
   "metadata": {},
   "outputs": [
    {
     "data": {
      "text/plain": [
       "((TensorSpec(shape=(None,), dtype=tf.string, name=None),\n",
       "  TensorSpec(shape=(None, 40), dtype=tf.int64, name=None)),\n",
       " TensorSpec(shape=(None, 20), dtype=tf.int64, name=None))"
      ]
     },
     "execution_count": 4,
     "metadata": {},
     "output_type": "execute_result"
    }
   ],
   "source": [
    "train_data.element_spec"
   ]
  },
  {
   "cell_type": "markdown",
   "metadata": {},
   "source": [
    "## Try one model"
   ]
  },
  {
   "cell_type": "code",
   "execution_count": 5,
   "metadata": {},
   "outputs": [],
   "source": [
    "from tensorflow.keras.metrics import MeanSquaredError"
   ]
  },
  {
   "cell_type": "code",
   "execution_count": 8,
   "metadata": {},
   "outputs": [
    {
     "data": {
      "text/plain": [
       "<tf.Tensor: shape=(), dtype=float32, numpy=0.010000002>"
      ]
     },
     "execution_count": 8,
     "metadata": {},
     "output_type": "execute_result"
    }
   ],
   "source": [
    "mse = MeanSquaredError()\n",
    "y_true = tf.constant([0.0, 0.5, 1.0, 1.5])\n",
    "y_pred = tf.constant([0.1, 0.4, 1.1, 1.6])\n",
    "mse.update_state(y_true=y_true, y_pred=y_pred)\n",
    "mse.result()"
   ]
  },
  {
   "cell_type": "code",
   "execution_count": null,
   "metadata": {},
   "outputs": [],
   "source": [
    "# Set model hyperparameters - User customizable\n",
    "hparams = {\n",
    "    \"decoder_stack_height\": 1,\n",
    "    \"d_model\": 12, # must be divisible by h_model\n",
    "    \"h_model\": 2,\n",
    "    \"decoder_dropout_rate\": 0.1,\n",
    "    \"n_decoder_vocab\": n_vocab,\n",
    "    \"label_seq_length\": label_seq_length,\n",
    "    \"encoder_max_seq_len\": 512\n",
    "}\n",
    "\n",
    "my_model = MyCustomModel(**hparams)\n",
    "my_model.compile(optimizer=Adam(),\n",
    "                 loss=losses.SparseCategoricalCrossentropy(from_logits=True),\n",
    "                 metrics=['accuracy'])\n",
    "my_model.fit(train_data, epochs=1, verbose=2)\n",
    "output = my_model.evaluate(test_data)\n",
    "print(my_model.metrics_names)\n",
    "print(output)"
   ]
  },
  {
   "cell_type": "markdown",
   "metadata": {},
   "source": [
    "## Try another model"
   ]
  },
  {
   "cell_type": "code",
   "execution_count": 4,
   "metadata": {},
   "outputs": [
    {
     "name": "stderr",
     "output_type": "stream",
     "text": [
      "Some weights of the PyTorch model were not used when initializing the TF 2.0 model TFDistilBertModel: ['vocab_transform.weight', 'vocab_transform.bias', 'vocab_projector.bias', 'vocab_layer_norm.weight', 'vocab_layer_norm.bias']\n",
      "- This IS expected if you are initializing TFDistilBertModel from a PyTorch model trained on another task or with another architecture (e.g. initializing a TFBertForSequenceClassification model from a BertForPreTraining model).\n",
      "- This IS NOT expected if you are initializing TFDistilBertModel from a PyTorch model that you expect to be exactly identical (e.g. initializing a TFBertForSequenceClassification model from a BertForSequenceClassification model).\n",
      "All the weights of TFDistilBertModel were initialized from the PyTorch model.\n",
      "If your task is similar to the task the model of the checkpoint was trained on, you can already use TFDistilBertModel for predictions without further training.\n",
      "WARNING:absl:At this time, the v2.11+ optimizer `tf.keras.optimizers.Adam` runs slowly on M1/M2 Macs, please use the legacy Keras optimizer instead, located at `tf.keras.optimizers.legacy.Adam`.\n",
      "100%|███████████████████████████████████████████| 20/20 [00:01<00:00, 15.80it/s]\n",
      "100%|███████████████████████████████████████████| 20/20 [00:01<00:00, 19.67it/s]\n",
      "2024-03-22 18:07:59.738783: E tensorflow/core/grappler/optimizers/meta_optimizer.cc:961] model_pruner failed: INVALID_ARGUMENT: Graph does not contain terminal node Adam/AssignAddVariableOp_10.\n"
     ]
    },
    {
     "name": "stdout",
     "output_type": "stream",
     "text": [
      "7/7 - 53s - loss: 159524976.0000 - mse: 159524976.0000 - 53s/epoch - 8s/step\n"
     ]
    },
    {
     "name": "stderr",
     "output_type": "stream",
     "text": [
      "100%|███████████████████████████████████████████| 20/20 [00:00<00:00, 21.11it/s]\n"
     ]
    },
    {
     "name": "stdout",
     "output_type": "stream",
     "text": [
      "2/2 [==============================] - 12s 2s/step - loss: 159741856.0000 - mse: 159741856.0000\n",
      "['loss', 'mse']\n",
      "[159741856.0, 159741856.0]\n"
     ]
    }
   ],
   "source": [
    "# Set model hyperparameters - User customizable\n",
    "hparams1 = {\n",
    "    \"decoder_stack_height\": 1,\n",
    "    \"d_values\": 12, # must be divisible by h_model\n",
    "    \"d_keys\": 12,\n",
    "    \"h_model\": 2,\n",
    "    \"decoder_dropout_rate\": 0.1,\n",
    "    \"n_decoder_vocab\": n_vocab,\n",
    "    \"label_seq_length\": label_seq_length,\n",
    "    \"encoder_max_seq_len\": 512\n",
    "}\n",
    "\n",
    "my_model1 = MyCustomModel1(**hparams1)\n",
    "my_model1.compile(optimizer=Adam(),\n",
    "                 loss=losses.MeanSquaredError(),\n",
    "                 metrics=['mse'])\n",
    "my_model1.fit(train_data, epochs=1, verbose=2)\n",
    "output = my_model1.evaluate(test_data)\n",
    "print(my_model1.metrics_names)\n",
    "print(output)"
   ]
  },
  {
   "cell_type": "code",
   "execution_count": null,
   "metadata": {},
   "outputs": [],
   "source": []
  }
 ],
 "metadata": {
  "kernelspec": {
   "display_name": "Python 3 (ipykernel)",
   "language": "python",
   "name": "python3"
  },
  "language_info": {
   "codemirror_mode": {
    "name": "ipython",
    "version": 3
   },
   "file_extension": ".py",
   "mimetype": "text/x-python",
   "name": "python",
   "nbconvert_exporter": "python",
   "pygments_lexer": "ipython3",
   "version": "3.10.13"
  }
 },
 "nbformat": 4,
 "nbformat_minor": 4
}
