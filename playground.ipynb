{
 "cells": [
  {
   "cell_type": "code",
   "execution_count": 1,
   "id": "9271c167-0cc7-470e-8a7b-d64d0f27fd1c",
   "metadata": {},
   "outputs": [],
   "source": [
    "import os\n",
    "os.environ[\"TF_CPP_MIN_LOG_LEVEL\"] = \"2\"\n",
    "import numpy as np\n",
    "\n",
    "import tensorflow as tf\n",
    "from tensorflow import keras\n",
    "from tensorflow.keras import layers\n",
    "from tensorflow.keras.datasets import mnist"
   ]
  },
  {
   "cell_type": "code",
   "execution_count": 18,
   "id": "48cd6c3d-48bd-47d4-8072-aa40292bfde7",
   "metadata": {},
   "outputs": [
    {
     "name": "stdout",
     "output_type": "stream",
     "text": [
      "(60000, 28, 28)\n",
      "(60000,)\n"
     ]
    }
   ],
   "source": [
    "(x_train, y_train), (x_test, y_test) = mnist.load_data()\n",
    "print(x_train.shape)\n",
    "print(y_train.shape)"
   ]
  },
  {
   "cell_type": "markdown",
   "id": "17c8cae2-aff9-4a29-a356-52d8f3fe48c7",
   "metadata": {
    "jp-MarkdownHeadingCollapsed": true
   },
   "source": [
    "## Playing with Sequential API and Functional API"
   ]
  },
  {
   "cell_type": "code",
   "execution_count": null,
   "id": "8177535c-4d7b-4dbe-9ee8-97b59e36c655",
   "metadata": {},
   "outputs": [],
   "source": [
    "x_train = x_train.reshape((-1, 28*28)).astype('float32')/255.0\n",
    "x_test = x_test.reshape((-1, 28*28)).astype('float32')/255.0\n",
    "print(x_train.shape)\n",
    "print(x_test.shape)"
   ]
  },
  {
   "cell_type": "code",
   "execution_count": 15,
   "id": "288bf9bd-cb8a-4d7b-a714-d7d838821fd8",
   "metadata": {
    "editable": true,
    "slideshow": {
     "slide_type": ""
    },
    "tags": []
   },
   "outputs": [
    {
     "name": "stdout",
     "output_type": "stream",
     "text": [
      "Model: \"my_first_sequential\"\n",
      "_________________________________________________________________\n",
      " Layer (type)                Output Shape              Param #   \n",
      "=================================================================\n",
      " dense_10 (Dense)            (None, 800)               628000    \n",
      "                                                                 \n",
      " dense_11 (Dense)            (None, 10)                8010      \n",
      "                                                                 \n",
      "=================================================================\n",
      "Total params: 636010 (2.43 MB)\n",
      "Trainable params: 636010 (2.43 MB)\n",
      "Non-trainable params: 0 (0.00 Byte)\n",
      "_________________________________________________________________\n"
     ]
    },
    {
     "name": "stderr",
     "output_type": "stream",
     "text": [
      "WARNING:absl:At this time, the v2.11+ optimizer `tf.keras.optimizers.Adam` runs slowly on M1/M2 Macs, please use the legacy Keras optimizer instead, located at `tf.keras.optimizers.legacy.Adam`.\n"
     ]
    },
    {
     "name": "stdout",
     "output_type": "stream",
     "text": [
      "None\n",
      "Epoch 1/15\n"
     ]
    },
    {
     "name": "stderr",
     "output_type": "stream",
     "text": [
      "2024-01-26 15:02:11.794550: E tensorflow/core/grappler/optimizers/meta_optimizer.cc:961] model_pruner failed: INVALID_ARGUMENT: Graph does not contain terminal node Adam/AssignAddVariableOp.\n"
     ]
    },
    {
     "name": "stdout",
     "output_type": "stream",
     "text": [
      "1875/1875 - 7s - loss: 2.1814 - Accuracy: 0.2192 - 7s/epoch - 3ms/step\n",
      "Epoch 2/15\n",
      "1875/1875 - 6s - loss: 1.7459 - Accuracy: 0.5543 - 6s/epoch - 3ms/step\n",
      "Epoch 3/15\n",
      "1875/1875 - 6s - loss: 1.4265 - Accuracy: 0.7045 - 6s/epoch - 3ms/step\n",
      "Epoch 4/15\n",
      "1875/1875 - 6s - loss: 1.1909 - Accuracy: 0.7640 - 6s/epoch - 3ms/step\n",
      "Epoch 5/15\n",
      "1875/1875 - 6s - loss: 1.0179 - Accuracy: 0.7949 - 6s/epoch - 3ms/step\n",
      "Epoch 6/15\n",
      "1875/1875 - 6s - loss: 0.8902 - Accuracy: 0.8142 - 6s/epoch - 3ms/step\n",
      "Epoch 7/15\n",
      "1875/1875 - 6s - loss: 0.7949 - Accuracy: 0.8281 - 6s/epoch - 3ms/step\n",
      "Epoch 8/15\n",
      "1875/1875 - 6s - loss: 0.7223 - Accuracy: 0.8384 - 6s/epoch - 3ms/step\n",
      "Epoch 9/15\n",
      "1875/1875 - 6s - loss: 0.6659 - Accuracy: 0.8472 - 6s/epoch - 3ms/step\n",
      "Epoch 10/15\n",
      "1875/1875 - 6s - loss: 0.6215 - Accuracy: 0.8547 - 6s/epoch - 3ms/step\n",
      "Epoch 11/15\n",
      "1875/1875 - 6s - loss: 0.5856 - Accuracy: 0.8603 - 6s/epoch - 3ms/step\n",
      "Epoch 12/15\n",
      "1875/1875 - 6s - loss: 0.5561 - Accuracy: 0.8648 - 6s/epoch - 3ms/step\n",
      "Epoch 13/15\n",
      "1875/1875 - 6s - loss: 0.5316 - Accuracy: 0.8686 - 6s/epoch - 3ms/step\n",
      "Epoch 14/15\n",
      "1875/1875 - 6s - loss: 0.5109 - Accuracy: 0.8718 - 6s/epoch - 3ms/step\n",
      "Epoch 15/15\n",
      "1875/1875 - 6s - loss: 0.4933 - Accuracy: 0.8751 - 6s/epoch - 3ms/step\n",
      "313/313 [==============================] - 1s 3ms/step - loss: 0.4648 - Accuracy: 0.8838\n"
     ]
    },
    {
     "data": {
      "text/plain": [
       "[0.46481454372406006, 0.8838000297546387]"
      ]
     },
     "execution_count": 15,
     "metadata": {},
     "output_type": "execute_result"
    }
   ],
   "source": [
    "# Using Sequential API\n",
    "model = keras.Sequential(\n",
    "    [\n",
    "        keras.Input(shape=(28*28)),\n",
    "        layers.Dense(units=800, activation='relu'),\n",
    "        layers.Dense(units=10)\n",
    "    ], name=\"my_first_sequential\"\n",
    ")\n",
    "\n",
    "print(model.summary())\n",
    "\n",
    "model.compile(\n",
    "    optimizer=keras.optimizers.Adam(learning_rate=1e-6),\n",
    "    loss=keras.losses.SparseCategoricalCrossentropy(from_logits=True),\n",
    "    metrics=['Accuracy']\n",
    ")\n",
    "\n",
    "model.fit(x=x_train, y=y_train, epochs=15, verbose=2)\n",
    "model.evaluate(x=x_test, y=y_test)"
   ]
  },
  {
   "cell_type": "code",
   "execution_count": 16,
   "id": "4f6481f1-a6e3-4d51-ac34-f956a9cf5305",
   "metadata": {},
   "outputs": [
    {
     "name": "stdout",
     "output_type": "stream",
     "text": [
      "Model: \"my_second_sequential\"\n",
      "_________________________________________________________________\n",
      " Layer (type)                Output Shape              Param #   \n",
      "=================================================================\n",
      " input_7 (InputLayer)        [(None, 784)]             0         \n",
      "                                                                 \n",
      " dense_12 (Dense)            (None, 800)               628000    \n",
      "                                                                 \n",
      " dense_13 (Dense)            (None, 10)                8010      \n",
      "                                                                 \n",
      "=================================================================\n",
      "Total params: 636010 (2.43 MB)\n",
      "Trainable params: 636010 (2.43 MB)\n",
      "Non-trainable params: 0 (0.00 Byte)\n",
      "_________________________________________________________________\n"
     ]
    },
    {
     "name": "stderr",
     "output_type": "stream",
     "text": [
      "WARNING:absl:At this time, the v2.11+ optimizer `tf.keras.optimizers.Adam` runs slowly on M1/M2 Macs, please use the legacy Keras optimizer instead, located at `tf.keras.optimizers.legacy.Adam`.\n"
     ]
    },
    {
     "name": "stdout",
     "output_type": "stream",
     "text": [
      "None\n",
      "Epoch 1/15\n"
     ]
    },
    {
     "name": "stderr",
     "output_type": "stream",
     "text": [
      "2024-01-26 15:04:21.132873: E tensorflow/core/grappler/optimizers/meta_optimizer.cc:961] model_pruner failed: INVALID_ARGUMENT: Graph does not contain terminal node Adam/AssignAddVariableOp.\n"
     ]
    },
    {
     "name": "stdout",
     "output_type": "stream",
     "text": [
      "1875/1875 - 7s - loss: 2.1029 - Accuracy: 0.2841 - 7s/epoch - 3ms/step\n",
      "Epoch 2/15\n",
      "1875/1875 - 6s - loss: 1.6832 - Accuracy: 0.5979 - 6s/epoch - 3ms/step\n",
      "Epoch 3/15\n",
      "1875/1875 - 6s - loss: 1.3845 - Accuracy: 0.7145 - 6s/epoch - 3ms/step\n",
      "Epoch 4/15\n",
      "1875/1875 - 6s - loss: 1.1638 - Accuracy: 0.7674 - 6s/epoch - 3ms/step\n",
      "Epoch 5/15\n",
      "1875/1875 - 6s - loss: 1.0002 - Accuracy: 0.7990 - 6s/epoch - 3ms/step\n",
      "Epoch 6/15\n",
      "1875/1875 - 6s - loss: 0.8784 - Accuracy: 0.8191 - 6s/epoch - 3ms/step\n",
      "Epoch 7/15\n",
      "1875/1875 - 6s - loss: 0.7862 - Accuracy: 0.8333 - 6s/epoch - 3ms/step\n",
      "Epoch 8/15\n",
      "1875/1875 - 6s - loss: 0.7154 - Accuracy: 0.8437 - 6s/epoch - 3ms/step\n",
      "Epoch 9/15\n",
      "1875/1875 - 6s - loss: 0.6603 - Accuracy: 0.8523 - 6s/epoch - 3ms/step\n",
      "Epoch 10/15\n",
      "1875/1875 - 6s - loss: 0.6165 - Accuracy: 0.8590 - 6s/epoch - 3ms/step\n",
      "Epoch 11/15\n",
      "1875/1875 - 6s - loss: 0.5810 - Accuracy: 0.8643 - 6s/epoch - 3ms/step\n",
      "Epoch 12/15\n",
      "1875/1875 - 6s - loss: 0.5520 - Accuracy: 0.8687 - 6s/epoch - 3ms/step\n",
      "Epoch 13/15\n",
      "1875/1875 - 6s - loss: 0.5279 - Accuracy: 0.8723 - 6s/epoch - 3ms/step\n",
      "Epoch 14/15\n",
      "1875/1875 - 6s - loss: 0.5075 - Accuracy: 0.8760 - 6s/epoch - 3ms/step\n",
      "Epoch 15/15\n",
      "1875/1875 - 6s - loss: 0.4899 - Accuracy: 0.8790 - 6s/epoch - 3ms/step\n",
      "313/313 [==============================] - 1s 3ms/step - loss: 0.4625 - Accuracy: 0.8866\n"
     ]
    },
    {
     "data": {
      "text/plain": [
       "[0.46245214343070984, 0.8866000175476074]"
      ]
     },
     "execution_count": 16,
     "metadata": {},
     "output_type": "execute_result"
    }
   ],
   "source": [
    "# Using functional API\n",
    "input = keras.Input(28*28)\n",
    "x = keras.layers.Dense(800, activation='relu')(input)\n",
    "output = keras.layers.Dense(10)(x)\n",
    "\n",
    "model = keras.Model(inputs=input, outputs=output, name=\"my_second_sequential\")\n",
    "print(model.summary())\n",
    "\n",
    "model.compile(\n",
    "    optimizer=keras.optimizers.Adam(learning_rate=1e-6),\n",
    "    loss=keras.losses.SparseCategoricalCrossentropy(from_logits=True),\n",
    "    metrics=['Accuracy']\n",
    ")\n",
    "\n",
    "model.fit(x_train, y_train, epochs=15, verbose=2)\n",
    "model.evaluate(x_test, y_test)"
   ]
  },
  {
   "cell_type": "markdown",
   "id": "3d9d8e92-ae95-4893-b00e-9b6de4320d51",
   "metadata": {},
   "source": [
    "## Playing with GRUs, LSTMs, and RNNs"
   ]
  },
  {
   "cell_type": "code",
   "execution_count": 25,
   "id": "9be82f7d-3fb2-498b-a872-3ec0f3c74a58",
   "metadata": {},
   "outputs": [
    {
     "name": "stdout",
     "output_type": "stream",
     "text": [
      "Model: \"model_3\"\n",
      "_________________________________________________________________\n",
      " Layer (type)                Output Shape              Param #   \n",
      "=================================================================\n",
      " input_12 (InputLayer)       [(None, 28, 28)]          0         \n",
      "                                                                 \n",
      " simple_rnn_3 (SimpleRNN)    (None, 256)               72960     \n",
      "                                                                 \n",
      " dense_15 (Dense)            (None, 10)                2570      \n",
      "                                                                 \n",
      "=================================================================\n",
      "Total params: 75530 (295.04 KB)\n",
      "Trainable params: 75530 (295.04 KB)\n",
      "Non-trainable params: 0 (0.00 Byte)\n",
      "_________________________________________________________________\n",
      "None\n"
     ]
    }
   ],
   "source": [
    "input = keras.Input(shape=(28,28))\n",
    "x = layers.SimpleRNN(units=256, activation='tanh', return_sequences=False)(input)\n",
    "output = layers.Dense(units=10)(x)\n",
    "model = keras.Model(inputs=input, outputs=output)\n",
    "model.compile(\n",
    "    optimizer=keras.optimizers.legacy.Adam(learning_rate=1e-4),\n",
    "    loss=keras.losses.SparseCategoricalCrossentropy(from_logits=True),\n",
    "    metrics=['accuracy'],\n",
    ")\n",
    "\n",
    "print(model.summary())"
   ]
  },
  {
   "cell_type": "code",
   "execution_count": 26,
   "id": "2c7b2239-a6a2-4c9a-8fd4-bccf5dd9a86a",
   "metadata": {},
   "outputs": [
    {
     "name": "stdout",
     "output_type": "stream",
     "text": [
      "Epoch 1/5\n",
      "1875/1875 - 332s - loss: 1.4301 - accuracy: 0.4778 - 332s/epoch - 177ms/step\n",
      "Epoch 2/5\n",
      "1875/1875 - 332s - loss: 1.2635 - accuracy: 0.5192 - 332s/epoch - 177ms/step\n",
      "Epoch 3/5\n",
      "1875/1875 - 331s - loss: 1.2290 - accuracy: 0.5293 - 331s/epoch - 177ms/step\n",
      "Epoch 4/5\n",
      "1875/1875 - 330s - loss: 1.2019 - accuracy: 0.5388 - 330s/epoch - 176ms/step\n",
      "Epoch 5/5\n",
      "1875/1875 - 331s - loss: 1.1819 - accuracy: 0.5446 - 331s/epoch - 177ms/step\n",
      "313/313 [==============================] - 12s 38ms/step - loss: 1.2277 - accuracy: 0.5306\n"
     ]
    },
    {
     "data": {
      "text/plain": [
       "[1.2277429103851318, 0.5306000113487244]"
      ]
     },
     "execution_count": 26,
     "metadata": {},
     "output_type": "execute_result"
    }
   ],
   "source": [
    "model.fit(x_train, y_train, epochs=5, verbose=2)\n",
    "model.evaluate(x_test, y_test)"
   ]
  },
  {
   "cell_type": "code",
   "execution_count": null,
   "id": "69650ff1-bf82-4a98-92af-743aed3dbb65",
   "metadata": {},
   "outputs": [],
   "source": []
  }
 ],
 "metadata": {
  "kernelspec": {
   "display_name": "Python 3 (ipykernel)",
   "language": "python",
   "name": "python3"
  },
  "language_info": {
   "codemirror_mode": {
    "name": "ipython",
    "version": 3
   },
   "file_extension": ".py",
   "mimetype": "text/x-python",
   "name": "python",
   "nbconvert_exporter": "python",
   "pygments_lexer": "ipython3",
   "version": "3.10.13"
  }
 },
 "nbformat": 4,
 "nbformat_minor": 5
}
