{
 "cells": [
  {
   "cell_type": "code",
   "execution_count": 1,
   "metadata": {},
   "outputs": [],
   "source": [
    "from tensorflow.keras.optimizers import Adam\n",
    "from tensorflow.keras import losses\n",
    "\n",
    "from modeling.preprocess.get_training_data import compile_training_data\n",
    "from modeling.models.custom_models import MyCustomModel"
   ]
  },
  {
   "cell_type": "code",
   "execution_count": 2,
   "metadata": {},
   "outputs": [],
   "source": [
    "# Set shared hyperparameters - User customizable\n",
    "label_seq_length = 20\n",
    "n_vocab = 100000\n",
    "\n",
    "# Set input pipeline hyperparameters - User customizable\n",
    "pipeline_hparams = {\n",
    "    \"training_data_folder\": \"datasets/test_training data\",\n",
    "    \"fred_series_id\": \"GDPC1\",\n",
    "    \"series_seq_length\": 40,\n",
    "    \"label_seq_length\": label_seq_length,\n",
    "    \"n_vocab\": n_vocab,\n",
    "    \"num_threads\": 8,\n",
    "    \"batch_size\": 1\n",
    "}\n",
    "\n",
    "# Set model hyperparameters - User customizable\n",
    "hparams = {\n",
    "    \"decoder_stack_height\": 1,\n",
    "    \"d_model\": 12, # must be divisible by h_model\n",
    "    \"h_model\": 2,\n",
    "    \"decoder_dropout_rate\": 0.1,\n",
    "    \"n_decoder_vocab\": n_vocab,\n",
    "    \"label_seq_length\": label_seq_length\n",
    "}"
   ]
  },
  {
   "cell_type": "code",
   "execution_count": 3,
   "metadata": {},
   "outputs": [],
   "source": [
    "train_data, test_data = compile_training_data(**pipeline_hparams)"
   ]
  },
  {
   "cell_type": "code",
   "execution_count": null,
   "metadata": {},
   "outputs": [
    {
     "name": "stderr",
     "output_type": "stream",
     "text": [
      "Some weights of the PyTorch model were not used when initializing the TF 2.0 model TFDistilBertModel: ['vocab_layer_norm.bias', 'vocab_transform.bias', 'vocab_projector.bias', 'vocab_transform.weight', 'vocab_layer_norm.weight']\n",
      "- This IS expected if you are initializing TFDistilBertModel from a PyTorch model trained on another task or with another architecture (e.g. initializing a TFBertForSequenceClassification model from a BertForPreTraining model).\n",
      "- This IS NOT expected if you are initializing TFDistilBertModel from a PyTorch model that you expect to be exactly identical (e.g. initializing a TFBertForSequenceClassification model from a BertForSequenceClassification model).\n",
      "All the weights of TFDistilBertModel were initialized from the PyTorch model.\n",
      "If your task is similar to the task the model of the checkpoint was trained on, you can already use TFDistilBertModel for predictions without further training.\n",
      "WARNING:absl:At this time, the v2.11+ optimizer `tf.keras.optimizers.Adam` runs slowly on M1/M2 Macs, please use the legacy Keras optimizer instead, located at `tf.keras.optimizers.legacy.Adam`.\n",
      "100%|███████████████████████████████████████████| 20/20 [00:01<00:00, 15.02it/s]\n",
      "100%|███████████████████████████████████████████| 20/20 [00:01<00:00, 18.91it/s]\n",
      "2024-03-19 02:30:56.974560: E tensorflow/core/grappler/optimizers/meta_optimizer.cc:961] model_pruner failed: INVALID_ARGUMENT: Graph does not contain terminal node Adam/AssignAddVariableOp_10.\n"
     ]
    }
   ],
   "source": [
    "my_model = MyCustomModel(**hparams)\n",
    "my_model.compile(optimizer=Adam(),\n",
    "                 loss=losses.SparseCategoricalCrossentropy(from_logits=True),\n",
    "                 metrics=['accuracy'])\n",
    "my_model.fit(train_data, epochs=1, verbose=2)\n",
    "output = my_model.evaluate(test_data)\n",
    "print(my_model.metrics_names)\n",
    "print(output)"
   ]
  },
  {
   "cell_type": "code",
   "execution_count": null,
   "metadata": {},
   "outputs": [],
   "source": []
  }
 ],
 "metadata": {
  "kernelspec": {
   "display_name": "Python 3 (ipykernel)",
   "language": "python",
   "name": "python3"
  },
  "language_info": {
   "codemirror_mode": {
    "name": "ipython",
    "version": 3
   },
   "file_extension": ".py",
   "mimetype": "text/x-python",
   "name": "python",
   "nbconvert_exporter": "python",
   "pygments_lexer": "ipython3",
   "version": "3.10.13"
  }
 },
 "nbformat": 4,
 "nbformat_minor": 4
}
