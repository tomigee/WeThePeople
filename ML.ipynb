{
 "cells": [
  {
   "cell_type": "code",
   "execution_count": null,
   "metadata": {},
   "outputs": [],
   "source": [
    "from tensorflow.keras.optimizers import Adam\n",
    "from tensorflow.keras import losses\n",
    "\n",
    "from modeling.preprocess.get_training_data import compile_training_data\n",
    "from modeling.models.custom_models import MyCustomModel"
   ]
  },
  {
   "cell_type": "code",
   "execution_count": null,
   "metadata": {},
   "outputs": [],
   "source": [
    "# Set shared hyperparameters - User customizable\n",
    "label_seq_length = 20\n",
    "n_vocab = 100000\n",
    "\n",
    "# Set input pipeline hyperparameters - User customizable\n",
    "pipeline_hparams = {\n",
    "    \"training_data_folder\": \"datasets/test_training data\",\n",
    "    \"fred_series_id\": \"GDPC1\",\n",
    "    \"series_seq_length\": 40,\n",
    "    \"label_seq_length\": label_seq_length,\n",
    "    \"n_vocab\": n_vocab,\n",
    "    \"num_threads\": 8,\n",
    "    \"batch_size\": 1\n",
    "}\n",
    "\n",
    "# Set model hyperparameters - User customizable\n",
    "hparams = {\n",
    "    \"decoder_stack_height\": 1,\n",
    "    \"d_model\": 12, # must be divisible by h_model\n",
    "    \"h_model\": 2,\n",
    "    \"decoder_dropout_rate\": 0.1,\n",
    "    \"n_decoder_vocab\": n_vocab,\n",
    "    \"label_seq_length\": label_seq_length\n",
    "}"
   ]
  },
  {
   "cell_type": "code",
   "execution_count": null,
   "metadata": {},
   "outputs": [],
   "source": [
    "train_data, test_data = compile_training_data(**pipeline_hparams)"
   ]
  },
  {
   "cell_type": "code",
   "execution_count": null,
   "metadata": {},
   "outputs": [],
   "source": [
    "my_model = MyCustomModel(**hparams)\n",
    "my_model.compile(optimizer=Adam(),\n",
    "                 loss=losses.SparseCategoricalCrossentropy(from_logits=True),\n",
    "                 metrics=['accuracy'])\n",
    "my_model.fit(train_data, epochs=2, verbose=2)\n",
    "output = my_model.evaluate(test_data)\n",
    "print(my_model.metrics_names)\n",
    "print(output)"
   ]
  }
 ],
 "metadata": {
  "language_info": {
   "name": "python"
  }
 },
 "nbformat": 4,
 "nbformat_minor": 2
}
