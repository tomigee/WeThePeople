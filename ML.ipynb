{
 "cells": [
  {
   "cell_type": "code",
   "execution_count": 1,
   "id": "4447598b-1752-4a47-833f-ec4378849d4f",
   "metadata": {},
   "outputs": [],
   "source": [
    "import os\n",
    "os.environ[\"TF_CPP_MIN_LOG_LEVEL\"] = \"2\"\n",
    "import numpy as np\n",
    "\n",
    "import tensorflow as tf\n",
    "from tensorflow import keras\n",
    "from tensorflow.keras import layers\n",
    "from tensorflow.keras.datasets import mnist\n",
    "\n",
    "from transformers import TFBertModel, BertTokenizer"
   ]
  },
  {
   "cell_type": "markdown",
   "id": "3a32d1c6-1c96-47e1-995a-ca24013b7036",
   "metadata": {},
   "source": [
    "## Load training data from directory"
   ]
  },
  {
   "cell_type": "code",
   "execution_count": 8,
   "id": "414c7076-bf2d-49ee-9df0-eb825df6060d",
   "metadata": {},
   "outputs": [
    {
     "data": {
      "text/plain": [
       "'115-370'"
      ]
     },
     "execution_count": 8,
     "metadata": {},
     "output_type": "execute_result"
    }
   ],
   "source": [
    "import re\n",
    "path = \"Public Laws_copy/12-21-2018_115-370\"\n",
    "test_string = data_folder = os.path.basename(path)\n",
    "pattern = r\".+_(.+)\"\n",
    "matches = re.match(pattern, test_string)\n",
    "prefix = matches.group(1)\n",
    "prefix"
   ]
  },
  {
   "cell_type": "code",
   "execution_count": 12,
   "id": "f388615e-ad51-4f47-9564-f5c31f2fbfcc",
   "metadata": {},
   "outputs": [],
   "source": [
    "def process_training_data(path):\n",
    "    data_folder = os.path.basename(path)\n",
    "    pattern = r\".+_(.+)\"\n",
    "    matches = re.match(pattern, data_folder)\n",
    "    prefix = matches.group(1)\n",
    "    x1_filepath = os.path.join(path, prefix + \".txt\")\n",
    "    x2_filepath = os.path.join(path, prefix + \"_series.txt\")\n",
    "    y_filepath = os.path.join(path, prefix + \"_label.txt\")\n",
    "    y = tf.io.read_file(y_filepath)\n",
    "    x1 = tf.io.read_file(x1_filepath)\n",
    "    x2 = tf.io.read_file(x2_filepath)\n",
    "    return x1, x2, y\n",
    "    \n",
    "plaw_data_path = \"Public Laws_copy/12-21-2018_115-370\"\n",
    "x1, x2, y = process_training_data(plaw_data_path)"
   ]
  },
  {
   "cell_type": "code",
   "execution_count": 15,
   "id": "c8f128a8-3fa5-4a0c-b024-a79d0e48e5b5",
   "metadata": {},
   "outputs": [
    {
     "data": {
      "text/plain": [
       "<tf.Tensor: shape=(), dtype=string, numpy=b\"Hi I'm a label\">"
      ]
     },
     "execution_count": 15,
     "metadata": {},
     "output_type": "execute_result"
    }
   ],
   "source": [
    "y"
   ]
  },
  {
   "cell_type": "markdown",
   "id": "0b906a86-1e20-4cb7-a7f5-4dab383bb1d8",
   "metadata": {},
   "source": [
    "## Load BERT Model"
   ]
  },
  {
   "cell_type": "code",
   "execution_count": 2,
   "id": "1536ab70-50cc-48c5-bc9e-7851e6bbe42c",
   "metadata": {},
   "outputs": [
    {
     "data": {
      "application/vnd.jupyter.widget-view+json": {
       "model_id": "6236ca59ee3945b48fa8ced0314dd692",
       "version_major": 2,
       "version_minor": 0
      },
      "text/plain": [
       "config.json:   0%|          | 0.00/570 [00:00<?, ?B/s]"
      ]
     },
     "metadata": {},
     "output_type": "display_data"
    },
    {
     "data": {
      "application/vnd.jupyter.widget-view+json": {
       "model_id": "8d8129c3b4b6483abb36a3719862af30",
       "version_major": 2,
       "version_minor": 0
      },
      "text/plain": [
       "model.safetensors:   0%|          | 0.00/440M [00:00<?, ?B/s]"
      ]
     },
     "metadata": {},
     "output_type": "display_data"
    },
    {
     "name": "stderr",
     "output_type": "stream",
     "text": [
      "Some weights of the PyTorch model were not used when initializing the TF 2.0 model TFBertModel: ['cls.seq_relationship.bias', 'cls.predictions.transform.dense.bias', 'cls.predictions.transform.LayerNorm.bias', 'cls.predictions.bias', 'cls.predictions.transform.dense.weight', 'cls.seq_relationship.weight', 'cls.predictions.transform.LayerNorm.weight']\n",
      "- This IS expected if you are initializing TFBertModel from a PyTorch model trained on another task or with another architecture (e.g. initializing a TFBertForSequenceClassification model from a BertForPreTraining model).\n",
      "- This IS NOT expected if you are initializing TFBertModel from a PyTorch model that you expect to be exactly identical (e.g. initializing a TFBertForSequenceClassification model from a BertForSequenceClassification model).\n",
      "All the weights of TFBertModel were initialized from the PyTorch model.\n",
      "If your task is similar to the task the model of the checkpoint was trained on, you can already use TFBertModel for predictions without further training.\n"
     ]
    },
    {
     "data": {
      "application/vnd.jupyter.widget-view+json": {
       "model_id": "1306c8d06b1f45a4ba377a30abe4ae3e",
       "version_major": 2,
       "version_minor": 0
      },
      "text/plain": [
       "tokenizer_config.json:   0%|          | 0.00/48.0 [00:00<?, ?B/s]"
      ]
     },
     "metadata": {},
     "output_type": "display_data"
    },
    {
     "data": {
      "application/vnd.jupyter.widget-view+json": {
       "model_id": "2346922705104983b855f84ef30d6630",
       "version_major": 2,
       "version_minor": 0
      },
      "text/plain": [
       "vocab.txt:   0%|          | 0.00/232k [00:00<?, ?B/s]"
      ]
     },
     "metadata": {},
     "output_type": "display_data"
    },
    {
     "data": {
      "application/vnd.jupyter.widget-view+json": {
       "model_id": "29770ae732ad49029e817ef297bce0f4",
       "version_major": 2,
       "version_minor": 0
      },
      "text/plain": [
       "tokenizer.json:   0%|          | 0.00/466k [00:00<?, ?B/s]"
      ]
     },
     "metadata": {},
     "output_type": "display_data"
    }
   ],
   "source": [
    "bert = TFBertModel.from_pretrained(\"bert-base-uncased\")\n",
    "tokenizer = BertTokenizer.from_pretrained(\"bert-base-uncased\")"
   ]
  },
  {
   "cell_type": "markdown",
   "id": "532b685e-32f9-413d-906f-77750e8e6fac",
   "metadata": {
    "jp-MarkdownHeadingCollapsed": true
   },
   "source": [
    "## Messing Around"
   ]
  },
  {
   "cell_type": "code",
   "execution_count": 3,
   "id": "14db28ce-1aa2-4255-b2ec-9b47229d7c79",
   "metadata": {},
   "outputs": [
    {
     "name": "stdout",
     "output_type": "stream",
     "text": [
      "{'input_ids': <tf.Tensor: shape=(1, 11), dtype=int32, numpy=\n",
      "array([[ 101, 1045, 2572, 1037, 6251, 1012, 2298, 2012, 2033,  999,  102]],\n",
      "      dtype=int32)>, 'token_type_ids': <tf.Tensor: shape=(1, 11), dtype=int32, numpy=array([[0, 0, 0, 0, 0, 0, 0, 0, 0, 0, 0]], dtype=int32)>, 'attention_mask': <tf.Tensor: shape=(1, 11), dtype=int32, numpy=array([[1, 1, 1, 1, 1, 1, 1, 1, 1, 1, 1]], dtype=int32)>}\n"
     ]
    }
   ],
   "source": [
    "text = \"I am a sentence. Look at me!\"\n",
    "encoded_input = tokenizer(text, return_tensors='tf')\n",
    "print(encoded_input)"
   ]
  },
  {
   "cell_type": "markdown",
   "id": "1f6e4c41-d693-495f-ae29-53047202d3f8",
   "metadata": {},
   "source": [
    "## Back to it"
   ]
  },
  {
   "cell_type": "code",
   "execution_count": null,
   "id": "004ada3f-12d5-4cb8-be7e-793c4515c7a1",
   "metadata": {},
   "outputs": [],
   "source": [
    "# input = batch tokenize my text\n",
    "# output = bert(input)"
   ]
  }
 ],
 "metadata": {
  "kernelspec": {
   "display_name": "Python 3 (ipykernel)",
   "language": "python",
   "name": "python3"
  },
  "language_info": {
   "codemirror_mode": {
    "name": "ipython",
    "version": 3
   },
   "file_extension": ".py",
   "mimetype": "text/x-python",
   "name": "python",
   "nbconvert_exporter": "python",
   "pygments_lexer": "ipython3",
   "version": "3.10.13"
  }
 },
 "nbformat": 4,
 "nbformat_minor": 5
}
